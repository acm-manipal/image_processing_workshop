{
 "cells": [
  {
   "cell_type": "code",
   "execution_count": null,
   "metadata": {
    "collapsed": true
   },
   "outputs": [],
   "source": [
    "import cv2\n",
    "import numpy as np\n",
    "from matplotlib import pyplot as plt \n",
    "\n",
    "frame = cv2.imread(\"D:\\gradient.jpeg\")#sample image here\n",
    "\n",
    "ret,thresh1 = cv2.threshold(frame,127,255,cv2.THRESH_BINARY)\n",
    "\n",
    "\n",
    "plt.subplot(121)\n",
    "plt.imshow(frame)\n",
    "\n",
    "plt.subplot(122)\n",
    "plt.imshow(thresh1)\n",
    "\n",
    "plt.show()\n",
    "\n",
    "\n",
    "frame = cv2.imread(\"D:\\l85Bb.jpg\")#sample image here\n",
    "\n",
    "ret,thresh1 = cv2.threshold(frame,127,255,cv2.THRESH_BINARY)\n",
    "\n",
    "\n",
    "plt.subplot(121)\n",
    "plt.imshow(frame)\n",
    "\n",
    "plt.subplot(122)\n",
    "plt.imshow(thresh1)\n",
    "\n",
    "plt.show()"
   ]
  }
 ],
 "metadata": {
  "kernelspec": {
   "display_name": "Python 3",
   "language": "python",
   "name": "python3"
  },
  "language_info": {
   "codemirror_mode": {
    "name": "ipython",
    "version": 3
   },
   "file_extension": ".py",
   "mimetype": "text/x-python",
   "name": "python",
   "nbconvert_exporter": "python",
   "pygments_lexer": "ipython3",
   "version": "3.5.2"
  }
 },
 "nbformat": 4,
 "nbformat_minor": 2
}
