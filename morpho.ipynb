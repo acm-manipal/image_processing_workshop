{
 "cells": [
  {
   "cell_type": "code",
   "execution_count": null,
   "metadata": {
    "collapsed": true
   },
   "outputs": [],
   "source": [
    "import cv2\n",
    "import numpy as np\n",
    "from matplotlib import pyplot as plt\n",
    "\n",
    "\n",
    "img = cv2.imread(\"D:\\morpho.jpg\")\n",
    "kernel = np.ones((5,5),np.uint8)\n",
    "\n",
    "'''\n",
    "kernel=\n",
    "[1 1 1 1 1\n",
    " 1 1 1 1 1\n",
    " 1 1 1 1 1\n",
    " 1 1 1 1 1\n",
    " 1 1 1 1 1]\n",
    "\n",
    "'''\n",
    "erosion = cv2.erode(img,kernel,iterations = 5)\n",
    "dilation = cv2.dilate(img,kernel,iterations = 1)\n",
    "opening = cv2.morphologyEx(img, cv2.MORPH_OPEN, kernel)\n",
    "closing = cv2.morphologyEx(img, cv2.MORPH_CLOSE, kernel)\n",
    "\n",
    "plt.subplot(2, 2, 1)\n",
    "plt.imshow(erosion)\n",
    "plt.subplot(2, 2, 2)\n",
    "plt.imshow(dilation)\n",
    "plt.subplot(2, 2, 3)\n",
    "plt.imshow(opening)\n",
    "plt.subplot(2, 2, 4)\n",
    "plt.imshow(closing)\n",
    "\n",
    "\n",
    "plt.show()\n"
   ]
  }
 ],
 "metadata": {
  "kernelspec": {
   "display_name": "Python 3",
   "language": "python",
   "name": "python3"
  },
  "language_info": {
   "codemirror_mode": {
    "name": "ipython",
    "version": 3
   },
   "file_extension": ".py",
   "mimetype": "text/x-python",
   "name": "python",
   "nbconvert_exporter": "python",
   "pygments_lexer": "ipython3",
   "version": "3.5.2"
  }
 },
 "nbformat": 4,
 "nbformat_minor": 2
}
