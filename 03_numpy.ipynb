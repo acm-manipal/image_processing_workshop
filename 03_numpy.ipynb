{
 "cells": [
  {
   "cell_type": "markdown",
   "metadata": {},
   "source": [
    "# NumPy Arrays\n",
    "Before venturing further, let's look into NumPy arrays"
   ]
  },
  {
   "cell_type": "code",
   "execution_count": 1,
   "metadata": {},
   "outputs": [],
   "source": [
    "import cv2\n",
    "import numpy as np"
   ]
  },
  {
   "cell_type": "code",
   "execution_count": 2,
   "metadata": {},
   "outputs": [],
   "source": [
    "img = cv2.imread('images/image1.jpeg')"
   ]
  },
  {
   "cell_type": "markdown",
   "metadata": {},
   "source": [
    "`img` is a NumPy array like before. Let's print it out."
   ]
  },
  {
   "cell_type": "code",
   "execution_count": 3,
   "metadata": {},
   "outputs": [
    {
     "name": "stdout",
     "output_type": "stream",
     "text": [
      "[[[255 243 207]\n",
      "  [187 159 105]\n",
      "  [199 164  91]\n",
      "  ..., \n",
      "  [206 164  87]\n",
      "  [206 164  87]\n",
      "  [206 164  87]]\n",
      "\n",
      " [[255 243 207]\n",
      "  [187 159 105]\n",
      "  [199 164  91]\n",
      "  ..., \n",
      "  [206 164  87]\n",
      "  [206 164  87]\n",
      "  [206 164  87]]\n",
      "\n",
      " [[255 243 207]\n",
      "  [187 159 105]\n",
      "  [199 164  91]\n",
      "  ..., \n",
      "  [206 164  87]\n",
      "  [206 164  87]\n",
      "  [206 164  87]]\n",
      "\n",
      " ..., \n",
      " [[ 51  51  51]\n",
      "  [ 51  51  51]\n",
      "  [ 51  51  51]\n",
      "  ..., \n",
      "  [ 51  51  51]\n",
      "  [ 51  51  51]\n",
      "  [ 51  51  51]]\n",
      "\n",
      " [[ 51  51  51]\n",
      "  [ 51  51  51]\n",
      "  [ 51  51  51]\n",
      "  ..., \n",
      "  [ 51  51  51]\n",
      "  [ 51  51  51]\n",
      "  [ 51  51  51]]\n",
      "\n",
      " [[ 51  51  51]\n",
      "  [ 51  51  51]\n",
      "  [ 51  51  51]\n",
      "  ..., \n",
      "  [ 51  51  51]\n",
      "  [ 51  51  51]\n",
      "  [ 51  51  51]]]\n"
     ]
    }
   ],
   "source": [
    "print(img)"
   ]
  },
  {
   "cell_type": "markdown",
   "metadata": {},
   "source": [
    "As you can see, it's a 3D array with a shit ton of numbers.\n",
    "\n",
    "NumPy arrays have some cool features."
   ]
  },
  {
   "cell_type": "code",
   "execution_count": 4,
   "metadata": {},
   "outputs": [
    {
     "name": "stdout",
     "output_type": "stream",
     "text": [
      "(1073, 1280, 3)\n"
     ]
    }
   ],
   "source": [
    "print(img.shape)"
   ]
  },
  {
   "cell_type": "markdown",
   "metadata": {},
   "source": [
    "We can get the resolution of the image using `shape`"
   ]
  },
  {
   "cell_type": "code",
   "execution_count": 5,
   "metadata": {},
   "outputs": [
    {
     "name": "stdout",
     "output_type": "stream",
     "text": [
      "[[255 243 207]\n",
      " [187 159 105]\n",
      " [199 164  91]\n",
      " ..., \n",
      " [206 164  87]\n",
      " [206 164  87]\n",
      " [206 164  87]]\n"
     ]
    }
   ],
   "source": [
    "print(img[0])"
   ]
  },
  {
   "cell_type": "code",
   "execution_count": 6,
   "metadata": {},
   "outputs": [
    {
     "name": "stdout",
     "output_type": "stream",
     "text": [
      "[255 243 207]\n"
     ]
    }
   ],
   "source": [
    "print(img[0,0])"
   ]
  },
  {
   "cell_type": "code",
   "execution_count": 7,
   "metadata": {},
   "outputs": [
    {
     "name": "stdout",
     "output_type": "stream",
     "text": [
      "255\n"
     ]
    }
   ],
   "source": [
    "print(img[0,0,0])"
   ]
  },
  {
   "cell_type": "code",
   "execution_count": 13,
   "metadata": {},
   "outputs": [
    {
     "name": "stdout",
     "output_type": "stream",
     "text": [
      "[255 243 207]\n"
     ]
    }
   ],
   "source": [
    "print(img[0][0])"
   ]
  },
  {
   "cell_type": "code",
   "execution_count": 19,
   "metadata": {},
   "outputs": [
    {
     "name": "stdout",
     "output_type": "stream",
     "text": [
      "[[[255 243 207]\n",
      "  [187 159 105]]\n",
      "\n",
      " [[255 243 207]\n",
      "  [187 159 105]]]\n"
     ]
    }
   ],
   "source": [
    "a = img[0:2,0:2]\n",
    "print(a)"
   ]
  },
  {
   "cell_type": "markdown",
   "metadata": {},
   "source": [
    "We don't have much time to delve into NumPy arrays, but we'll see its features as and when we use them. \n",
    "\n",
    "Here's a link to the full documentation: https://docs.scipy.org/doc/numpy-dev/reference/"
   ]
  },
  {
   "cell_type": "markdown",
   "metadata": {},
   "source": [
    "# Bonus Question\n",
    "How would you crop an image into a 1000x1000 image?\n",
    "\n",
    "Try it below..."
   ]
  },
  {
   "cell_type": "code",
   "execution_count": null,
   "metadata": {},
   "outputs": [],
   "source": []
  }
 ],
 "metadata": {
  "kernelspec": {
   "display_name": "Python 3",
   "language": "python",
   "name": "python3"
  },
  "language_info": {
   "codemirror_mode": {
    "name": "ipython",
    "version": 3
   },
   "file_extension": ".py",
   "mimetype": "text/x-python",
   "name": "python",
   "nbconvert_exporter": "python",
   "pygments_lexer": "ipython3",
   "version": "3.5.2"
  }
 },
 "nbformat": 4,
 "nbformat_minor": 2
}
